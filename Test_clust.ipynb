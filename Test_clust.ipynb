{
 "cells": [
  {
   "cell_type": "code",
   "execution_count": 1,
   "metadata": {},
   "outputs": [],
   "source": [
    "import zipfile\n",
    "import pandas as pd\n",
    "import numpy as np\n",
    "import seaborn as sns\n",
    "from seaborn import distplot\n",
    "\n",
    "from openpyxl import load_workbook\n",
    "\n",
    "from sklearn.feature_extraction.text import CountVectorizer\n",
    "from sklearn.manifold import TSNE\n",
    "\n",
    "from sklearn.cluster import DBSCAN\n",
    "from sklearn.cluster import KMeans\n",
    "from sklearn.cluster import SpectralClustering\n",
    "\n",
    "from sklearn.metrics import silhouette_score\n",
    "\n",
    "from xgboost import XGBClassifier\n",
    "from sklearn.model_selection import cross_val_score\n",
    "from sklearn import svm\n",
    "\n",
    "import collections\n",
    "import matplotlib.pyplot as plt \n",
    "import operator\n",
    "\n",
    "import gensim\n",
    "import re\n",
    "from nltk import word_tokenize\n",
    "from nltk.tokenize import word_tokenize\n",
    "from nltk.corpus import stopwords\n",
    "from nltk import WordPunctTokenizer\n",
    "import pymorphy2\n",
    "m = pymorphy2.MorphAnalyzer()\n",
    "sw = stopwords.words('russian')\n",
    "badwords = []"
   ]
  },
  {
   "cell_type": "code",
   "execution_count": 2,
   "metadata": {
    "scrolled": true
   },
   "outputs": [
    {
     "name": "stdout",
     "output_type": "stream",
     "text": [
      "File Name                                             Modified             Size\n",
      "raiffeisen_ru_google_msk.xlsx                  2019-10-23 03:16:30        77889\n",
      "raiffeisen_ru_google_spb.xlsx                  2019-10-23 03:17:42        76184\n",
      "raiffeisen_ru_yandex_msk.xlsx                  2019-10-23 03:15:54        78594\n",
      "raiffeisen_ru_yandex_spb.xlsx                  2019-10-23 03:17:12        76183\n"
     ]
    }
   ],
   "source": [
    "z = zipfile.ZipFile('zip.zip', 'r') \n",
    "z.printdir()"
   ]
  },
  {
   "cell_type": "markdown",
   "metadata": {},
   "source": [
    "### xlsx to df"
   ]
  },
  {
   "cell_type": "code",
   "execution_count": 4,
   "metadata": {},
   "outputs": [],
   "source": [
    "google_msk_lw = load_workbook(z.extract('google_msk.xlsx'))\n",
    "google_spb_lw = load_workbook(z.extract('google_spb.xlsx'))\n",
    "yandex_msk_lw = load_workbook(z.extract('yandex_msk.xlsx'))\n",
    "yandex_spd_lw = load_workbook(z.extract('yandex_spb.xlsx'))"
   ]
  },
  {
   "cell_type": "code",
   "execution_count": 5,
   "metadata": {},
   "outputs": [
    {
     "name": "stderr",
     "output_type": "stream",
     "text": [
      "C:\\Ana\\lib\\site-packages\\ipykernel_launcher.py:1: DeprecationWarning: Call to deprecated function get_sheet_by_name (Use wb[sheetname]).\n",
      "  \"\"\"Entry point for launching an IPython kernel.\n",
      "C:\\Ana\\lib\\site-packages\\ipykernel_launcher.py:2: DeprecationWarning: Call to deprecated function get_sheet_by_name (Use wb[sheetname]).\n",
      "  \n",
      "C:\\Ana\\lib\\site-packages\\ipykernel_launcher.py:3: DeprecationWarning: Call to deprecated function get_sheet_by_name (Use wb[sheetname]).\n",
      "  This is separate from the ipykernel package so we can avoid doing imports until\n",
      "C:\\Ana\\lib\\site-packages\\ipykernel_launcher.py:4: DeprecationWarning: Call to deprecated function get_sheet_by_name (Use wb[sheetname]).\n",
      "  after removing the cwd from sys.path.\n"
     ]
    }
   ],
   "source": [
    "g_msk = google_msk_lw.get_sheet_by_name('Sheet1')\n",
    "g_spd = google_spb_lw.get_sheet_by_name('Sheet1')\n",
    "ya_msk = yandex_msk_lw.get_sheet_by_name('Sheet1')\n",
    "ya_spd = yandex_spd_lw.get_sheet_by_name('Sheet1')\n"
   ]
  },
  {
   "cell_type": "code",
   "execution_count": 5,
   "metadata": {},
   "outputs": [],
   "source": [
    "def make_ok_df(sheet):\n",
    "    headline = pd.DataFrame(sheet.values)\n",
    "    df = pd.DataFrame(sheet.values, columns = headline[:1].get_values()[0])[1:]\n",
    "    index_ok = [i for i in range(len(df))]\n",
    "    df = df.set_index([pd.Index(index_ok)])\n",
    "    del headline\n",
    "    return df"
   ]
  },
  {
   "cell_type": "code",
   "execution_count": 6,
   "metadata": {},
   "outputs": [],
   "source": [
    "google_msk_df = make_ok_df(g_msk)\n",
    "google_spb_df = make_ok_df(g_spd)\n",
    "yandex_msk_df = make_ok_df(ya_msk)\n",
    "yandex_spb_df = make_ok_df(ya_spd)\n"
   ]
  },
  {
   "cell_type": "code",
   "execution_count": 7,
   "metadata": {},
   "outputs": [
    {
     "data": {
      "text/plain": [
       "1000"
      ]
     },
     "execution_count": 7,
     "metadata": {},
     "output_type": "execute_result"
    }
   ],
   "source": [
    "# google_spb_df == yandex_spb_df ---> значения метрик и прочее должно быть одинаковое!\n",
    "(google_spb_df['AdCopy'] == yandex_spb_df['AdCopy']).astype(int).sum()"
   ]
  },
  {
   "cell_type": "markdown",
   "metadata": {},
   "source": [
    "### Make str int/float"
   ]
  },
  {
   "cell_type": "code",
   "execution_count": 8,
   "metadata": {},
   "outputs": [],
   "source": [
    "def str_to_int(df, name_col):\n",
    "    for i in range(len(df)):\n",
    "        #df[name_col][i].lstrip()\n",
    "        #df[name_col][i].rstrip()\n",
    "        if df[name_col][i].find(' '):\n",
    "            df[name_col][i] = int(df[name_col][i].replace(' ', ''))\n",
    "    #ckeck is all str int now? --> yes, if nothing printed        \n",
    "    for i in range(len(df)):\n",
    "        if type(df[name_col][i]) != int:\n",
    "            print(i)"
   ]
  },
  {
   "cell_type": "code",
   "execution_count": 9,
   "metadata": {},
   "outputs": [],
   "source": [
    "def str_to_float(df, name_col):\n",
    "    for i in range(len(df)):\n",
    "        #df[name_col][i].lstrip()\n",
    "        #df[name_col][i].rstrip()\n",
    "        try:\n",
    "            if df[name_col][i].find(','):\n",
    "                df[name_col][i] = float(df[name_col][i].replace(',', '.'))\n",
    "        except:    \n",
    "            if df[name_col][i] == None:\n",
    "                df[name_col][i] = float(0)\n",
    "            elif type(df[name_col][i][1]) == str:\n",
    "                df[name_col][i] = df[name_col][i][-1]\n",
    "        finally:\n",
    "            df[name_col][i] = float(df[name_col][i])\n",
    "                \n",
    "    #ckeck is all str float now? --> yes, if nothing printed                   \n",
    "    for i in range(len(df)):\n",
    "        if type(df[name_col][i]) != float:\n",
    "            print(i)"
   ]
  },
  {
   "cell_type": "code",
   "execution_count": 10,
   "metadata": {},
   "outputs": [],
   "source": [
    "def str_to_int_float_extented(df):\n",
    "    str_to_int(df, 'Volume')\n",
    "    str_to_float(df, 'CPC')\n",
    "    str_to_float(df, 'TraffShare %')\n",
    "    extended = df[['Volume', 'CPC', 'TraffShare %', 'KeyComp']]\n",
    "    return extended"
   ]
  },
  {
   "cell_type": "code",
   "execution_count": 11,
   "metadata": {
    "scrolled": true
   },
   "outputs": [],
   "source": [
    "google_msk_extended = str_to_int_float_extented(google_msk_df)\n",
    "google_spb_extended = str_to_int_float_extented(google_spb_df)\n",
    "yandex_msk_extended = str_to_int_float_extented(yandex_msk_df)\n",
    "yandex_spb_extended = str_to_int_float_extented(yandex_spb_df)"
   ]
  },
  {
   "cell_type": "code",
   "execution_count": null,
   "metadata": {
    "scrolled": true
   },
   "outputs": [],
   "source": []
  },
  {
   "cell_type": "markdown",
   "metadata": {},
   "source": [
    "### Analyses"
   ]
  },
  {
   "cell_type": "code",
   "execution_count": 12,
   "metadata": {},
   "outputs": [],
   "source": [
    "def cleanText(data):\n",
    "    data = data.apply(lambda x: str(x))\n",
    "    pattern = re.compile(r'[_\\d]|[^\\w]',re.U)\n",
    "    texts = [WordPunctTokenizer().tokenize(document) for document in data]\n",
    "    texts = [[re.sub(pattern,'',word).lower() for word in text] for text in texts]\n",
    "    texts = [[m.parse(word)[0].normal_form for word in text if len(word)>=3 and word not in badwords\\\n",
    "              and word not in sw] for text in texts]\n",
    "    return texts"
   ]
  },
  {
   "cell_type": "code",
   "execution_count": 13,
   "metadata": {
    "scrolled": true
   },
   "outputs": [],
   "source": [
    "def Make_Clean_Sentenses(df):\n",
    "    ad = pd.Series(df['AdCopy'])\n",
    "    ad_clean = cleanText(pd.Series(ad))\n",
    "    sentences = [' '.join(i) for i in ad_clean]\n",
    "    return sentences"
   ]
  },
  {
   "cell_type": "code",
   "execution_count": 14,
   "metadata": {},
   "outputs": [],
   "source": [
    "def count_vect_to_df(sentences):\n",
    "    count_vector = CountVectorizer()\n",
    "    mtr = count_vector.fit_transform(pd.Series(sentences))\n",
    "    sorted_x = sorted(count_vector.vocabulary_.items(), key=operator.itemgetter(1))\n",
    "    columns_names = [i[0] for i in sorted_x]\n",
    "    df_mtr = pd.DataFrame(mtr.toarray(), columns=columns_names)\n",
    "    df_mtr_count_words = pd.DataFrame(mtr.toarray(), columns=columns_names).sum(axis = 0).sort_values()\n",
    "\n",
    "    return df_mtr, df_mtr_count_words"
   ]
  },
  {
   "cell_type": "code",
   "execution_count": 15,
   "metadata": {
    "scrolled": true
   },
   "outputs": [],
   "source": [
    "def count_words_df(count_words):\n",
    "    new_count_word= pd.DataFrame()\n",
    "    new_count_word['word'] =  pd.Series(count_words.index.values)\n",
    "    new_count_word['count'] = pd.Series(count_words.values)\n",
    "    return new_count_word"
   ]
  },
  {
   "cell_type": "code",
   "execution_count": 16,
   "metadata": {},
   "outputs": [],
   "source": [
    "def Clean_Count_vect_df(df):\n",
    "    sentences = Make_Clean_Sentenses(df)\n",
    "    res, res_count_words = count_vect_to_df(sentences)\n",
    "    res_count_words_df = count_words_df(res_count_words)\n",
    "    return res, res_count_words_df"
   ]
  },
  {
   "cell_type": "code",
   "execution_count": 17,
   "metadata": {},
   "outputs": [],
   "source": [
    "sentences_g_m = Make_Clean_Sentenses(google_msk_df)\n",
    "sentences_g_s = Make_Clean_Sentenses(google_spb_df)\n",
    "sentences_ya_m = Make_Clean_Sentenses(yandex_msk_df)\n",
    "sentences_ya_s = Make_Clean_Sentenses(yandex_spb_df)"
   ]
  },
  {
   "cell_type": "code",
   "execution_count": 18,
   "metadata": {},
   "outputs": [],
   "source": [
    "google_msk, google_msk_count_words_df = Clean_Count_vect_df(google_msk_df)\n",
    "google_spb, google_spb_count_words_df = Clean_Count_vect_df(google_spb_df)\n",
    "yandex_msk, yandex_msk_count_words_df = Clean_Count_vect_df(yandex_msk_df)\n",
    "yandex_spb, yandex_spb_count_words_df = Clean_Count_vect_df(yandex_spb_df)\n"
   ]
  },
  {
   "cell_type": "code",
   "execution_count": 19,
   "metadata": {},
   "outputs": [],
   "source": [
    "#если слово встречается столько же раз сколько предложений\n",
    "def badwords_frequent(df, count_word):\n",
    "    badwords = []\n",
    "    for i in range(len(count_word)):\n",
    "        if count_word['count'][i]>= len(df):\n",
    "            if count_word['word'][i] not in badwords:\n",
    "                badwords.append(count_word['word'][i])\n",
    "    \n",
    "    for i in badwords:\n",
    "        count_word = count_word[count_word['word'] != i]\n",
    "        \n",
    "    return count_word, badwords"
   ]
  },
  {
   "cell_type": "code",
   "execution_count": 20,
   "metadata": {
    "scrolled": true
   },
   "outputs": [],
   "source": [
    "google_msk_count_words_df, badwords_g_m  = badwords_frequent(google_msk, google_msk_count_words_df)\n",
    "google_spb_count_words_df, badwords_g_s = badwords_frequent(google_spb, google_spb_count_words_df)\n",
    "yandex_msk_count_words_df, badwords_ya_m = badwords_frequent(yandex_msk, yandex_msk_count_words_df)\n",
    "yandex_spb_count_words_df, badwords_ya_s = badwords_frequent(yandex_spb, yandex_spb_count_words_df)"
   ]
  },
  {
   "cell_type": "code",
   "execution_count": 21,
   "metadata": {
    "scrolled": true
   },
   "outputs": [],
   "source": [
    "def meam_median(mean, median, what_in,it_is_name, df):\n",
    "    mean.append(df['count'].mean())\n",
    "    median.append(df['count'].median())\n",
    "    what_in.append(it_is_name)"
   ]
  },
  {
   "cell_type": "code",
   "execution_count": 22,
   "metadata": {},
   "outputs": [],
   "source": [
    "mean = []\n",
    "median = []\n",
    "what_in = []\n",
    "meam_median(mean,median,what_in,'google_msk',  google_msk_count_words_df)\n",
    "meam_median(mean,median,what_in,'google_spb',  google_spb_count_words_df)\n",
    "meam_median(mean,median,what_in,'yandex_msk',  yandex_msk_count_words_df)\n",
    "meam_median(mean,median,what_in,'yandex_spb',  yandex_spb_count_words_df)"
   ]
  },
  {
   "cell_type": "code",
   "execution_count": 23,
   "metadata": {},
   "outputs": [
    {
     "data": {
      "text/plain": [
       "<matplotlib.legend.Legend at 0x163ed0f1c88>"
      ]
     },
     "execution_count": 23,
     "metadata": {},
     "output_type": "execute_result"
    },
    {
     "data": {
      "image/png": "[encoded data removed]",
      "text/plain": [
       "<Figure size 650x455 with 1 Axes>"
      ]
     },
     "metadata": {
      "needs_background": "light"
     },
     "output_type": "display_data"
    }
   ],
   "source": [
    "plt.figure(figsize=(10, 7), dpi=65)\n",
    "plt.bar(what_in, mean, color = 'pink',  width=0.3, label='mean')\n",
    "plt.bar(what_in, median, color = 'orange', width=0.3, label='median')\n",
    "plt.legend(loc='upper left')"
   ]
  },
  {
   "cell_type": "code",
   "execution_count": 24,
   "metadata": {
    "scrolled": true
   },
   "outputs": [],
   "source": [
    "def one_word_percent(df):\n",
    "    return len(df[df['count'] == 1])/len(df)"
   ]
  },
  {
   "cell_type": "code",
   "execution_count": 25,
   "metadata": {},
   "outputs": [],
   "source": [
    "one_word_per_df = []\n",
    "one_word_per_df.append(one_word_percent(google_msk_count_words_df))\n",
    "one_word_per_df.append(one_word_percent(google_spb_count_words_df))\n",
    "one_word_per_df.append(one_word_percent(yandex_msk_count_words_df))\n",
    "one_word_per_df.append(one_word_percent(yandex_spb_count_words_df))"
   ]
  },
  {
   "cell_type": "code",
   "execution_count": 26,
   "metadata": {},
   "outputs": [
    {
     "data": {
      "text/plain": [
       "Text(0.5, 1.0, 'Процент слов встречающихся всего 1 раз')"
      ]
     },
     "execution_count": 26,
     "metadata": {},
     "output_type": "execute_result"
    },
    {
     "data": {
      "image/png": "[encoded data removed]",
      "text/plain": [
       "<Figure size 650x455 with 1 Axes>"
      ]
     },
     "metadata": {
      "needs_background": "light"
     },
     "output_type": "display_data"
    }
   ],
   "source": [
    "plt.figure(figsize=(10, 7), dpi=65)\n",
    "plt.bar(what_in, 1, color = '#B0E0E6',  width=0.3)\n",
    "plt.bar(what_in, one_word_per_df, color = '#3CB371',  width=0.3)\n",
    "plt.title('Процент слов встречающихся всего 1 раз')"
   ]
  },
  {
   "cell_type": "code",
   "execution_count": 27,
   "metadata": {},
   "outputs": [],
   "source": [
    "def bad_words_1(count_word):\n",
    "    bad_words_1 = count_word[count_word['count'] == 1]['word'].values\n",
    "    for i in bad_words_1:\n",
    "        count_word = count_word[count_word['word'] != i]\n",
    "    return count_word, bad_words_1"
   ]
  },
  {
   "cell_type": "code",
   "execution_count": 28,
   "metadata": {
    "scrolled": true
   },
   "outputs": [],
   "source": [
    "# удаляю те слова которые встречаются 1 раз\n",
    "google_msk_count_words_df, bad_words_1_g_m = bad_words_1(google_msk_count_words_df)\n",
    "google_spb_count_words_df, bad_words_1_g_s = bad_words_1(google_spb_count_words_df)\n",
    "yandex_msk_count_words_df, bad_words_1_ya_m = bad_words_1(yandex_msk_count_words_df)\n",
    "yandex_spb_count_words_df, bad_words_1_ya_s = bad_words_1(yandex_spb_count_words_df)"
   ]
  },
  {
   "cell_type": "code",
   "execution_count": 29,
   "metadata": {
    "scrolled": true
   },
   "outputs": [],
   "source": [
    "#все плохие слова теперь в одной куче, понадобится далее\n",
    "bad_g_m = list(bad_words_1_g_m) +badwords_g_m\n",
    "bad_g_s = list(bad_words_1_g_s) +badwords_g_s\n",
    "bad_ya_m = list(bad_words_1_ya_m) +badwords_ya_m\n",
    "bad_ya_s = list(bad_words_1_ya_s) +badwords_ya_s"
   ]
  },
  {
   "cell_type": "code",
   "execution_count": 30,
   "metadata": {
    "scrolled": true
   },
   "outputs": [],
   "source": [
    "def main_df_withount_bad_words(df):\n",
    "    df.drop(badwords, axis = 1, inplace=True)\n",
    "    df.drop(bad_words_1, axis = 1, inplace=True)\n",
    "    return df"
   ]
  },
  {
   "cell_type": "code",
   "execution_count": 31,
   "metadata": {
    "scrolled": true
   },
   "outputs": [],
   "source": [
    "def top_word(df):\n",
    "    return df['word'][df['count'] == df['count'].max()].values[0]"
   ]
  },
  {
   "cell_type": "code",
   "execution_count": 32,
   "metadata": {},
   "outputs": [],
   "source": [
    "top_1_word = []\n",
    "top_1_word.append(top_word(google_msk_count_words_df))\n",
    "top_1_word.append(top_word(google_spb_count_words_df))\n",
    "top_1_word.append(top_word(yandex_msk_count_words_df))\n",
    "top_1_word.append(top_word(yandex_spb_count_words_df))\n",
    "top_1_word_df = pd.DataFrame()\n",
    "top_1_word_df['what_in'] = what_in\n",
    "top_1_word_df['top_1'] = top_1_word"
   ]
  },
  {
   "cell_type": "code",
   "execution_count": 33,
   "metadata": {},
   "outputs": [
    {
     "data": {
      "text/html": [
       "<div>\n",
       "<style scoped>\n",
       "    .dataframe tbody tr th:only-of-type {\n",
       "        vertical-align: middle;\n",
       "    }\n",
       "\n",
       "    .dataframe tbody tr th {\n",
       "        vertical-align: top;\n",
       "    }\n",
       "\n",
       "    .dataframe thead th {\n",
       "        text-align: right;\n",
       "    }\n",
       "</style>\n",
       "<table border=\"1\" class=\"dataframe\">\n",
       "  <thead>\n",
       "    <tr style=\"text-align: right;\">\n",
       "      <th></th>\n",
       "      <th>what_in</th>\n",
       "      <th>top_1</th>\n",
       "    </tr>\n",
       "  </thead>\n",
       "  <tbody>\n",
       "    <tr>\n",
       "      <th>0</th>\n",
       "      <td>google_msk</td>\n",
       "      <td>рубль</td>\n",
       "    </tr>\n",
       "    <tr>\n",
       "      <th>1</th>\n",
       "      <td>google_spb</td>\n",
       "      <td>финансовый</td>\n",
       "    </tr>\n",
       "    <tr>\n",
       "      <th>2</th>\n",
       "      <td>yandex_msk</td>\n",
       "      <td>услуга</td>\n",
       "    </tr>\n",
       "    <tr>\n",
       "      <th>3</th>\n",
       "      <td>yandex_spb</td>\n",
       "      <td>финансовый</td>\n",
       "    </tr>\n",
       "  </tbody>\n",
       "</table>\n",
       "</div>"
      ],
      "text/plain": [
       "      what_in       top_1\n",
       "0  google_msk       рубль\n",
       "1  google_spb  финансовый\n",
       "2  yandex_msk      услуга\n",
       "3  yandex_spb  финансовый"
      ]
     },
     "execution_count": 33,
     "metadata": {},
     "output_type": "execute_result"
    }
   ],
   "source": [
    "#самые часто встречающиеся слова в файле\n",
    "top_1_word_df"
   ]
  },
  {
   "cell_type": "code",
   "execution_count": 34,
   "metadata": {},
   "outputs": [],
   "source": [
    "def top_10_word(df):\n",
    "    dd = df[-10:].sort_values(by = 'count', ascending = False).reset_index()\n",
    "    return dd['word']"
   ]
  },
  {
   "cell_type": "code",
   "execution_count": 35,
   "metadata": {},
   "outputs": [],
   "source": [
    "top_10_g_m = top_10_word(google_msk_count_words_df)\n",
    "top_10_g_s = top_10_word(google_spb_count_words_df)\n",
    "top_10_ya_m = top_10_word(yandex_msk_count_words_df)\n",
    "top_10_ya_s = top_10_word(yandex_spb_count_words_df)"
   ]
  },
  {
   "cell_type": "code",
   "execution_count": 36,
   "metadata": {
    "scrolled": true
   },
   "outputs": [
    {
     "data": {
      "text/plain": [
       "0         рубль\n",
       "1         карта\n",
       "2          день\n",
       "3        кредит\n",
       "4        онлайн\n",
       "5      документ\n",
       "6    бесплатный\n",
       "7      комиссия\n",
       "8        ставка\n",
       "9          счёт\n",
       "Name: word, dtype: object"
      ]
     },
     "execution_count": 36,
     "metadata": {},
     "output_type": "execute_result"
    }
   ],
   "source": [
    "#top 10 words in google_msk\n",
    "top_10_g_m"
   ]
  },
  {
   "cell_type": "code",
   "execution_count": 37,
   "metadata": {},
   "outputs": [
    {
     "data": {
      "text/plain": [
       "0      финансовый\n",
       "1          услуга\n",
       "2       оказывать\n",
       "3           карта\n",
       "4          ставка\n",
       "5        документ\n",
       "6            срок\n",
       "7            счёт\n",
       "8      бесплатный\n",
       "9    обслуживание\n",
       "Name: word, dtype: object"
      ]
     },
     "execution_count": 37,
     "metadata": {},
     "output_type": "execute_result"
    }
   ],
   "source": [
    "#top 10 words in google_spb\n",
    "top_10_g_s"
   ]
  },
  {
   "cell_type": "code",
   "execution_count": 38,
   "metadata": {},
   "outputs": [
    {
     "data": {
      "text/plain": [
       "0          услуга\n",
       "1       оказывать\n",
       "2           карта\n",
       "3            счёт\n",
       "4            срок\n",
       "5        документ\n",
       "6    обслуживание\n",
       "7      бесплатный\n",
       "8           рубль\n",
       "9          ставка\n",
       "Name: word, dtype: object"
      ]
     },
     "execution_count": 38,
     "metadata": {},
     "output_type": "execute_result"
    }
   ],
   "source": [
    "#top 10 words in yandex_msk\n",
    "top_10_ya_m"
   ]
  },
  {
   "cell_type": "code",
   "execution_count": 39,
   "metadata": {},
   "outputs": [
    {
     "data": {
      "text/plain": [
       "0      финансовый\n",
       "1          услуга\n",
       "2       оказывать\n",
       "3           карта\n",
       "4          ставка\n",
       "5        документ\n",
       "6            срок\n",
       "7            счёт\n",
       "8      бесплатный\n",
       "9    обслуживание\n",
       "Name: word, dtype: object"
      ]
     },
     "execution_count": 39,
     "metadata": {},
     "output_type": "execute_result"
    }
   ],
   "source": [
    "#top 10 words in yandex_spb\n",
    "top_10_ya_s"
   ]
  },
  {
   "cell_type": "code",
   "execution_count": 40,
   "metadata": {},
   "outputs": [],
   "source": [
    "def graf_frequency():\n",
    "    ax_0.set_title(\"Frequency google_msk\", fontsize=12)    \n",
    "    ax_1.set_title(\"Frequency google_spb\", fontsize=12)\n",
    "    ax_2.set_title(\"Frequency yandex_msk\", fontsize=12)\n",
    "    ax_3.set_title(\"Frequency yandex_spb\", fontsize=12)"
   ]
  },
  {
   "cell_type": "code",
   "execution_count": 41,
   "metadata": {},
   "outputs": [],
   "source": [
    "def text_gr():\n",
    "    plt.ylabel(\"Частота встречаний слов\") \n",
    "    plt.xlabel(\"Количество слов(сколько раз оно встретилось в тексте)\")"
   ]
  },
  {
   "cell_type": "code",
   "execution_count": 42,
   "metadata": {
    "scrolled": false
   },
   "outputs": [
    {
     "data": {
      "image/png": "[encoded data removed]",
      "text/plain": [
       "<Figure size 900x1200 with 4 Axes>"
      ]
     },
     "metadata": {
      "needs_background": "light"
     },
     "output_type": "display_data"
    }
   ],
   "source": [
    "gridsize = (3, 2)\n",
    "fig = plt.figure(figsize=(15, 20), dpi=60)\n",
    "\n",
    "ax_0 = plt.subplot2grid(gridsize, (0, 0))\n",
    "sns.distplot(google_msk_count_words_df['count'])\n",
    "text_gr()\n",
    "ax_1 = plt.subplot2grid(gridsize, (0, 1))\n",
    "sns.distplot(google_spb_count_words_df['count'])\n",
    "text_gr()\n",
    "ax_2 = plt.subplot2grid(gridsize, (1, 0))\n",
    "sns.distplot(yandex_msk_count_words_df['count'])\n",
    "text_gr()\n",
    "ax_3 = plt.subplot2grid(gridsize, (1, 1))\n",
    "sns.distplot(yandex_spb_count_words_df['count'])\n",
    "text_gr()\n",
    "graf_frequency()"
   ]
  },
  {
   "cell_type": "code",
   "execution_count": 43,
   "metadata": {
    "scrolled": true
   },
   "outputs": [],
   "source": [
    "def main_df_withount_bad_words(df,badwords, bad_words_1):\n",
    "    df.drop(badwords, axis = 1, inplace=True)\n",
    "    df.drop(bad_words_1, axis = 1, inplace=True)\n",
    "    return df"
   ]
  },
  {
   "cell_type": "code",
   "execution_count": 45,
   "metadata": {
    "scrolled": true
   },
   "outputs": [],
   "source": [
    "google_msk = main_df_withount_bad_words(google_msk,badwords_g_m ,bad_words_1_g_m)\n",
    "google_spb = main_df_withount_bad_words(google_spb,badwords_g_s ,bad_words_1_g_s)\n",
    "yandex_msk = main_df_withount_bad_words(yandex_msk,badwords_ya_m ,bad_words_1_ya_m)\n",
    "yandex_spb = main_df_withount_bad_words(yandex_spb,badwords_ya_s ,bad_words_1_ya_s)"
   ]
  },
  {
   "cell_type": "markdown",
   "metadata": {},
   "source": [
    "# ML\n",
    "### ML: normalize + TSNE"
   ]
  },
  {
   "cell_type": "code",
   "execution_count": 46,
   "metadata": {},
   "outputs": [],
   "source": [
    "google_msk_all = pd.concat([google_msk_extended, google_msk], axis = 1)\n",
    "google_spb_all = pd.concat([google_spb_extended, google_spb], axis = 1)\n",
    "yandex_msk_all = pd.concat([yandex_msk_extended, yandex_msk], axis = 1)\n",
    "yandex_spb_all = pd.concat([yandex_spb_extended, yandex_spb], axis = 1)"
   ]
  },
  {
   "cell_type": "code",
   "execution_count": 47,
   "metadata": {},
   "outputs": [],
   "source": [
    "def nomalize_fun(df, colum):\n",
    "    df[colum] = (df[colum] - df[colum].min())/(df[colum].max() - df[colum].min())"
   ]
  },
  {
   "cell_type": "code",
   "execution_count": 48,
   "metadata": {},
   "outputs": [],
   "source": [
    "def normalize_df(df):\n",
    "    nomalize_fun(df, 'Volume')\n",
    "    nomalize_fun(df, 'CPC')\n",
    "    nomalize_fun(df, 'TraffShare %')\n",
    "    nomalize_fun(df, 'KeyComp')\n",
    "    return df"
   ]
  },
  {
   "cell_type": "code",
   "execution_count": 49,
   "metadata": {},
   "outputs": [],
   "source": [
    "google_msk_all = normalize_df(google_msk_all)\n",
    "google_spb_all = normalize_df(google_spb_all)\n",
    "yandex_msk_all = normalize_df(yandex_msk_all)\n",
    "yandex_spb_all = normalize_df(yandex_spb_all)"
   ]
  },
  {
   "cell_type": "code",
   "execution_count": null,
   "metadata": {},
   "outputs": [],
   "source": []
  },
  {
   "cell_type": "markdown",
   "metadata": {},
   "source": [
    "На данном этапе стоит выбор делать прогноз только на словах, разложенных на CountVectorizer() или на словах+характеристики('Volume', 'CPC', 'TraffShare %','KeyComp') и метрику, по которой нужно выбрать какой именно вариант оставлять.  \n",
    "Хорошей метрикой оценивания кластеризации, когда нет исходного разбиения на кластеры является силуэт(sklearn.metrics.silhouette_score). Он принимает значения от -1 до 1, при этом чем лучше разбиение, тем ближе к 1 он должен быть.  \n",
    "Лучше получились результаты на Kmeans, поэтому смотрим на silhouette_score именно на нем(вывод сделан после прогонки Kmeans и DBSCAN, который ниже).  \n",
    "Сам cилуэт меряем Kmeans на google_msk, но тенденция к тому, что на Kmeans он выше, чем на DBSCAN прослеживается и на других df.\n",
    "* В ячейке ниже без комментариев вариант с только словами, его silhouette_score = 0.36535406348348975\n",
    "* В комментариях вариант слова+характеристики, его silhouette_score = 0.3646633000532693\n",
    "Соответственно оставляем вариант с прогнозом только на словах, разложенных на CountVectorizer() \n"
   ]
  },
  {
   "cell_type": "code",
   "execution_count": 51,
   "metadata": {
    "scrolled": true
   },
   "outputs": [],
   "source": [
    "google_msk_tsne = TSNE(random_state=42).fit_transform(google_msk)\n",
    "google_spb_tsne = TSNE(random_state=42).fit_transform(google_spb)\n",
    "yandex_msk_tsne = TSNE(random_state=42).fit_transform(yandex_msk)\n",
    "yandex_spb_tsne = TSNE(random_state=42).fit_transform(yandex_spb)\n",
    "\n",
    "\n",
    "#google_msk_tsne = TSNE(random_state=42).fit_transform(google_msk_all)\n",
    "#google_msk = google_msk_all"
   ]
  },
  {
   "cell_type": "code",
   "execution_count": 52,
   "metadata": {},
   "outputs": [],
   "source": [
    "def graf():\n",
    "    ax0.set_title('google_msk', fontsize=12);\n",
    "    ax0.scatter(google_msk_tsne[:, 0], google_msk_tsne[:, 1], s=0001.)\n",
    "    ax0.set_aspect('equal', 'datalim')\n",
    "    \n",
    "    ax1.set_title('google_spb', fontsize=12);\n",
    "    ax1.scatter(google_spb_tsne[:, 0], google_spb_tsne[:, 1], s=0001.)\n",
    "    ax1.set_aspect('equal', 'datalim')\n",
    "    \n",
    "    ax2.set_title('yandex_msk', fontsize=12);\n",
    "    ax2.scatter(yandex_msk_tsne[:, 0], yandex_msk_tsne[:, 1], s=0001.)\n",
    "    ax2.set_aspect('equal', 'datalim')\n",
    "    \n",
    "    ax3.set_title('yandex_spb', fontsize=12);\n",
    "    ax3.scatter(yandex_spb_tsne[:, 0], yandex_spb_tsne[:, 1], s=0001.)\n",
    "    ax3.set_aspect('equal', 'datalim')"
   ]
  },
  {
   "cell_type": "code",
   "execution_count": 53,
   "metadata": {},
   "outputs": [
    {
     "data": {
      "image/png": "[encoded data removed]",
      "text/plain": [
       "<Figure size 900x900 with 4 Axes>"
      ]
     },
     "metadata": {
      "needs_background": "light"
     },
     "output_type": "display_data"
    }
   ],
   "source": [
    "gridsize = (2, 2)\n",
    "fig = plt.figure(figsize=(15, 15), dpi=60)\n",
    "ax0 = plt.subplot2grid(gridsize, (0, 0))\n",
    "ax1 = plt.subplot2grid(gridsize, (0, 1))\n",
    "ax2 = plt.subplot2grid(gridsize, (1, 0))\n",
    "ax3 = plt.subplot2grid(gridsize, (1, 1))\n",
    "graf()"
   ]
  },
  {
   "cell_type": "markdown",
   "metadata": {},
   "source": [
    "По графикам видно, что области, похожие на примерное разбиение кластеров, получились выпуклыми, значит можно использовать DBSCAN и KMeans, нет необходимость использовать спектральную кластеризаю, которая работает долго.\n",
    "Особенность работы DBSCAN, что он хорошо предсказывает плотные выпуклые кластеры и не так хорошо предсказывает \"разряженные\" кластеры, которых тут достаточно много."
   ]
  },
  {
   "cell_type": "markdown",
   "metadata": {},
   "source": [
    "## ML: DBSCAN"
   ]
  },
  {
   "cell_type": "markdown",
   "metadata": {},
   "source": [
    "Убеждаемся, что DBSCAN дает результат хуже чем Kmeans(вывод сделан после прогонки Kmeans, который ниже)"
   ]
  },
  {
   "cell_type": "code",
   "execution_count": 54,
   "metadata": {},
   "outputs": [],
   "source": [
    "sil_score_d = []\n",
    "sil_e = []\n",
    "for e in range(1, 50, 5):\n",
    "    dbsc = DBSCAN(eps = e/100, min_samples=20).fit_predict(google_msk)\n",
    "    sil_e.append(e/100)\n",
    "    sil_score_d.append(silhouette_score(google_msk, dbsc))"
   ]
  },
  {
   "cell_type": "code",
   "execution_count": 55,
   "metadata": {
    "scrolled": true
   },
   "outputs": [],
   "source": [
    "def dbsc_best(df):\n",
    "    sil_score_d = []\n",
    "    sil_e = []\n",
    "    for e in range(1, 500, 10):\n",
    "        dbsc = DBSCAN(eps = e/100, min_samples=20).fit_predict(df)\n",
    "        sil_e.append(e/100)\n",
    "        try:\n",
    "            sil_score_d.append(silhouette_score(df, dbsc))\n",
    "        except:\n",
    "            sil_score_d.append(0)\n",
    "        \n",
    "    sil_dbscn_df =  pd.DataFrame()\n",
    "    sil_dbscn_df['e']=sil_e\n",
    "    sil_dbscn_df['sil_score']=sil_score_d\n",
    "    epsil = sil_dbscn_df[sil_dbscn_df['sil_score'] == sil_dbscn_df['sil_score'].max()]['e'].values[0]\n",
    "    print('max silhouette_score:', sil_dbscn_df['sil_score'][sil_dbscn_df['e'] == epsil].values[0])\n",
    "    print('eps:', epsil)\n",
    "    return epsil"
   ]
  },
  {
   "cell_type": "code",
   "execution_count": 56,
   "metadata": {
    "scrolled": true
   },
   "outputs": [
    {
     "name": "stdout",
     "output_type": "stream",
     "text": [
      "max silhouette_score: 0.30968706366709087\n",
      "eps: 3.61\n",
      "max silhouette_score: 0.3110810157857825\n",
      "eps: 3.41\n",
      "max silhouette_score: 0.2864885927970828\n",
      "eps: 3.21\n",
      "max silhouette_score: 0.3110810157857825\n",
      "eps: 3.41\n"
     ]
    }
   ],
   "source": [
    "epsil_g_m = dbsc_best(google_msk)\n",
    "epsil_g_s = dbsc_best(google_spb)\n",
    "epsil_ya_m = dbsc_best(yandex_msk)\n",
    "epsil_ya_s = dbsc_best(yandex_spb)"
   ]
  },
  {
   "cell_type": "code",
   "execution_count": 57,
   "metadata": {},
   "outputs": [],
   "source": [
    "google_msk_dbscan = DBSCAN(eps = epsil_g_m, min_samples=20).fit_predict(google_msk)\n",
    "google_spb_dbscan = DBSCAN(eps = epsil_g_s, min_samples=20).fit_predict(google_spb)\n",
    "yandex_msk_dbscan = DBSCAN(eps = epsil_ya_m, min_samples=20).fit_predict(yandex_msk)\n",
    "yandex_spb_dbscan = DBSCAN(eps = epsil_ya_s, min_samples=20).fit_predict(yandex_spb)"
   ]
  },
  {
   "cell_type": "code",
   "execution_count": 58,
   "metadata": {},
   "outputs": [
    {
     "data": {
      "text/plain": [
       "<matplotlib.collections.PathCollection at 0x163ed8f2d30>"
      ]
     },
     "execution_count": 58,
     "metadata": {},
     "output_type": "execute_result"
    },
    {
     "data": {
      "image/png": "[encoded data removed]",
      "text/plain": [
       "<Figure size 900x900 with 4 Axes>"
      ]
     },
     "metadata": {
      "needs_background": "light"
     },
     "output_type": "display_data"
    }
   ],
   "source": [
    "fig = plt.figure(figsize=(15, 15), dpi=60)\n",
    "\n",
    "ax_0 = plt.subplot2grid(gridsize, (0, 0))\n",
    "ax_0.set_title('google_msk', fontsize=12)\n",
    "ax_0.scatter(google_msk_tsne[:, 0], google_msk_tsne[:, 1], c = google_msk_dbscan, s=0001.)\n",
    "ax_0.set_aspect('equal', 'datalim')\n",
    "\n",
    "ax_1 = plt.subplot2grid(gridsize, (0, 1))\n",
    "ax_1.set_title('google_spb', fontsize=12)\n",
    "ax_1.scatter(google_spb_tsne[:, 0], google_spb_tsne[:, 1], c = google_spb_dbscan, s=0001.)\n",
    "\n",
    "ax_2 = plt.subplot2grid(gridsize, (1, 0))\n",
    "ax_2.set_title('yandex_msk', fontsize=12)\n",
    "ax_2.scatter(yandex_msk_tsne[:, 0], yandex_msk_tsne[:, 1], c = yandex_msk_dbscan, s=0001.)\n",
    "\n",
    "ax_3 = plt.subplot2grid(gridsize, (1, 1))\n",
    "ax_3.set_title('yandex_spb', fontsize=12)\n",
    "ax_3.scatter(yandex_spb_tsne[:, 0], yandex_spb_tsne[:, 1], c = yandex_spb_dbscan, s=0001.)"
   ]
  },
  {
   "cell_type": "markdown",
   "metadata": {},
   "source": [
    "## ML: Kmeans++"
   ]
  },
  {
   "cell_type": "code",
   "execution_count": 59,
   "metadata": {},
   "outputs": [],
   "source": [
    "def kmeans_best(df, col):\n",
    "    inertia = []\n",
    "    sil_score = []\n",
    "    sil_k = []\n",
    "    for k in range(2, 20):\n",
    "        kmeans = KMeans(n_clusters=k, random_state=1).fit(df)\n",
    "        inertia.append(np.sqrt(kmeans.inertia_))\n",
    "        kmeans_pr = KMeans(n_clusters=k, random_state=1).fit_predict(df)\n",
    "        sil_k.append(k)\n",
    "        sil_score.append(silhouette_score(df, kmeans_pr))\n",
    "\n",
    "    plt.plot(range(2, 20), inertia, marker='s', color = col);\n",
    "    plt.xlabel('$k$')\n",
    "    plt.ylabel('$J(C_k)$');\n",
    "\n",
    "    sil_kmean_df =  pd.DataFrame()\n",
    "    sil_kmean_df['k']=sil_k\n",
    "    sil_kmean_df['sil_score']=sil_score\n",
    "    k_kmeans = sil_kmean_df[sil_kmean_df['sil_score'] == sil_kmean_df['sil_score'].max()]['k'].values[0]\n",
    "    print('max silhouette_score:', sil_kmean_df['sil_score'][sil_kmean_df['k'] == k_kmeans].values[0])\n",
    "    print('k:', k_kmeans)\n",
    "    return k_kmeans"
   ]
  },
  {
   "cell_type": "code",
   "execution_count": 60,
   "metadata": {},
   "outputs": [
    {
     "name": "stdout",
     "output_type": "stream",
     "text": [
      "max silhouette_score: 0.36535406348348975\n",
      "k: 11\n",
      "max silhouette_score: 0.4065479193719201\n",
      "k: 18\n",
      "max silhouette_score: 0.38447947593752013\n",
      "k: 19\n",
      "max silhouette_score: 0.4065479193719201\n",
      "k: 18\n"
     ]
    },
    {
     "data": {
      "image/png": "[encoded data removed]",
      "text/plain": [
       "<Figure size 432x288 with 1 Axes>"
      ]
     },
     "metadata": {
      "needs_background": "light"
     },
     "output_type": "display_data"
    }
   ],
   "source": [
    "#число кластеров выбираем таким, когда падение становится \"не таким уж быстрым\" ---> 11.. 12(визуальная проверка по теории)\n",
    "#в дейситвительности смотрим на силуэт\n",
    "#нормально, что не видно розовой линии - она зетерлась зеленой, так как датафреймы гугл спб и яндекс спб одинаковые\n",
    "kmeans_g_m = kmeans_best(google_msk, 'red')\n",
    "kmeans_g_s = kmeans_best(google_spb, 'pink')\n",
    "kmeans_ya_m = kmeans_best(yandex_msk, 'blue')\n",
    "kmeans_ya_s = kmeans_best(yandex_spb, 'green')"
   ]
  },
  {
   "cell_type": "code",
   "execution_count": 61,
   "metadata": {},
   "outputs": [],
   "source": [
    "google_msk_kmeans = KMeans(n_clusters = kmeans_g_m, init = 'k-means++', random_state=1).fit_predict(google_msk)\n",
    "google_spb_kmeans = KMeans(n_clusters = kmeans_g_s, init = 'k-means++', random_state=1).fit_predict(google_spb)\n",
    "yandex_msk_kmeans = KMeans(n_clusters = kmeans_ya_m, init = 'k-means++', random_state=1).fit_predict(yandex_msk)\n",
    "yandex_spb_kmeans = KMeans(n_clusters = kmeans_ya_s, init = 'k-means++', random_state=1).fit_predict(yandex_spb)"
   ]
  },
  {
   "cell_type": "code",
   "execution_count": 62,
   "metadata": {},
   "outputs": [
    {
     "data": {
      "text/plain": [
       "<matplotlib.collections.PathCollection at 0x163f02df550>"
      ]
     },
     "execution_count": 62,
     "metadata": {},
     "output_type": "execute_result"
    },
    {
     "data": {
      "image/png": "[encoded data removed]",
      "text/plain": [
       "<Figure size 900x900 with 4 Axes>"
      ]
     },
     "metadata": {
      "needs_background": "light"
     },
     "output_type": "display_data"
    }
   ],
   "source": [
    "fig = plt.figure(figsize=(15, 15), dpi=60)\n",
    "\n",
    "ax_0 = plt.subplot2grid(gridsize, (0, 0))\n",
    "ax_0.set_title('google_msk', fontsize=12)\n",
    "ax_0.scatter(google_msk_tsne[:, 0], google_msk_tsne[:, 1], c = google_msk_kmeans, s=0001.)\n",
    "ax_0.set_aspect('equal', 'datalim')\n",
    "\n",
    "ax_1 = plt.subplot2grid(gridsize, (0, 1))\n",
    "ax_1.set_title('google_spb', fontsize=12)\n",
    "ax_1.scatter(google_spb_tsne[:, 0], google_spb_tsne[:, 1], c = google_spb_kmeans, s=0001.)\n",
    "\n",
    "ax_2 = plt.subplot2grid(gridsize, (1, 0))\n",
    "ax_2.set_title('yandex_msk', fontsize=12)\n",
    "ax_2.scatter(yandex_msk_tsne[:, 0], yandex_msk_tsne[:, 1], c = yandex_msk_kmeans, s=0001.)\n",
    "\n",
    "ax_3 = plt.subplot2grid(gridsize, (1, 1))\n",
    "ax_3.set_title('yandex_spb', fontsize=12)\n",
    "ax_3.scatter(yandex_spb_tsne[:, 0], yandex_spb_tsne[:, 1], c = yandex_spb_kmeans, s=0001.)"
   ]
  },
  {
   "cell_type": "code",
   "execution_count": null,
   "metadata": {},
   "outputs": [],
   "source": []
  },
  {
   "cell_type": "markdown",
   "metadata": {},
   "source": [
    "# Main word in clust"
   ]
  },
  {
   "cell_type": "code",
   "execution_count": 63,
   "metadata": {},
   "outputs": [],
   "source": [
    "def del_bad_words(x):\n",
    "    for i in bad_g_m:\n",
    "        x = x.replace(i, '')\n",
    "    return x"
   ]
  },
  {
   "cell_type": "code",
   "execution_count": 64,
   "metadata": {},
   "outputs": [],
   "source": [
    "sentences_g_m_not_bw = pd.Series(sentences_g_m).apply(lambda x: del_bad_words(x))\n",
    "sentences_g_s_not_bw = pd.Series(sentences_g_s).apply(lambda x: del_bad_words(x))\n",
    "sentences_ya_m_not_bw = pd.Series(sentences_ya_m).apply(lambda x: del_bad_words(x))\n",
    "sentences_ya_s_not_bw = pd.Series(sentences_ya_s).apply(lambda x: del_bad_words(x))"
   ]
  },
  {
   "cell_type": "code",
   "execution_count": 65,
   "metadata": {
    "scrolled": true
   },
   "outputs": [],
   "source": [
    "def clust_sent(df, df_kmeans, sentences):\n",
    "    res_g_m = pd.DataFrame()\n",
    "    res_g_m['labels'] = df_kmeans\n",
    "    res_g_m['sets'] = sentences\n",
    "    res_counts_g_m = pd.concat([res_g_m, df], axis = 1)\n",
    "    return res_counts_g_m"
   ]
  },
  {
   "cell_type": "code",
   "execution_count": 66,
   "metadata": {},
   "outputs": [],
   "source": [
    "res_g_m = clust_sent(google_msk, google_msk_kmeans, sentences_g_m_not_bw)\n",
    "res_g_s = clust_sent(google_spb, google_spb_kmeans, sentences_g_s_not_bw)\n",
    "res_ya_m = clust_sent(yandex_msk, yandex_msk_kmeans, sentences_ya_m_not_bw)\n",
    "res_ya_s = clust_sent(yandex_spb, yandex_spb_kmeans, sentences_ya_s_not_bw)"
   ]
  },
  {
   "cell_type": "code",
   "execution_count": 67,
   "metadata": {},
   "outputs": [],
   "source": [
    "res_label_sets_g_m = res_g_m[['labels', 'sets']]\n",
    "res_label_sets_g_s = res_g_s[['labels', 'sets']]\n",
    "res_label_sets_ya_m = res_ya_m[['labels', 'sets']]\n",
    "res_label_sets_ya_s = res_ya_s[['labels', 'sets']]"
   ]
  },
  {
   "cell_type": "code",
   "execution_count": 68,
   "metadata": {},
   "outputs": [],
   "source": [
    "res_label_sets_g_m = res_g_m\n",
    "res_g_s = clust_sent(google_spb, google_spb_kmeans, sentences_g_s_not_bw)\n",
    "res_ya_m = clust_sent(yandex_msk, yandex_msk_kmeans, sentences_ya_m_not_bw)\n",
    "res_ya_s = clust_sent(yandex_spb, yandex_spb_kmeans, sentences_ya_s_not_bw)"
   ]
  },
  {
   "cell_type": "code",
   "execution_count": 69,
   "metadata": {},
   "outputs": [],
   "source": [
    "def main_word_clust(k_kmeans,df):\n",
    "    clast = [] \n",
    "    len_clast = []\n",
    "    for i in range(k_kmeans):\n",
    "        clast.append(list(reversed(list(df[df['labels'] == i].drop(['labels', 'sets'], axis = 1).sum(axis = 0).sort_values()[-10: ].index))))\n",
    "        len_clast.append(len(df[df['labels'] == i]))\n",
    "    return len_clast, clast"
   ]
  },
  {
   "cell_type": "code",
   "execution_count": 70,
   "metadata": {},
   "outputs": [],
   "source": [
    "def clust_info(k_kmeans,df):\n",
    "    len_clast, clast = main_word_clust(k_kmeans,df)\n",
    "    clast_info = pd.DataFrame([i for i in range(len(len_clast))])\n",
    "    clast_info.columns = ['nom_clust']\n",
    "    clast_info['len_clust'] = len_clast\n",
    "    clast_info['top_words'] = clast\n",
    "    return clast_info"
   ]
  },
  {
   "cell_type": "code",
   "execution_count": 71,
   "metadata": {},
   "outputs": [],
   "source": [
    "clust_info_g_m = clust_info(kmeans_g_m, res_g_m)\n",
    "clust_info_g_s = clust_info(kmeans_g_s, res_g_s)\n",
    "clust_info_ya_m = clust_info(kmeans_ya_m, res_ya_m)\n",
    "clust_info_ya_s = clust_info(kmeans_ya_s, res_ya_s)"
   ]
  },
  {
   "cell_type": "code",
   "execution_count": 72,
   "metadata": {
    "scrolled": false
   },
   "outputs": [
    {
     "name": "stdout",
     "output_type": "stream",
     "text": [
      "Рузультаты кластеризации google_msk\n"
     ]
    },
    {
     "data": {
      "text/html": [
       "<div>\n",
       "<style scoped>\n",
       "    .dataframe tbody tr th:only-of-type {\n",
       "        vertical-align: middle;\n",
       "    }\n",
       "\n",
       "    .dataframe tbody tr th {\n",
       "        vertical-align: top;\n",
       "    }\n",
       "\n",
       "    .dataframe thead th {\n",
       "        text-align: right;\n",
       "    }\n",
       "</style>\n",
       "<table border=\"1\" class=\"dataframe\">\n",
       "  <thead>\n",
       "    <tr style=\"text-align: right;\">\n",
       "      <th></th>\n",
       "      <th>nom_clust</th>\n",
       "      <th>len_clust</th>\n",
       "      <th>top_words</th>\n",
       "    </tr>\n",
       "  </thead>\n",
       "  <tbody>\n",
       "    <tr>\n",
       "      <th>0</th>\n",
       "      <td>0</td>\n",
       "      <td>131</td>\n",
       "      <td>[поручитель, ставка, рубль, кредит, бесплатный...</td>\n",
       "    </tr>\n",
       "    <tr>\n",
       "      <th>1</th>\n",
       "      <td>1</td>\n",
       "      <td>164</td>\n",
       "      <td>[онлайн, помощь, счёт, райффайзенбанк, докумен...</td>\n",
       "    </tr>\n",
       "    <tr>\n",
       "      <th>2</th>\n",
       "      <td>2</td>\n",
       "      <td>163</td>\n",
       "      <td>[кредит, ставка, рубль, документ, счёт, карта,...</td>\n",
       "    </tr>\n",
       "    <tr>\n",
       "      <th>3</th>\n",
       "      <td>3</td>\n",
       "      <td>97</td>\n",
       "      <td>[покупка, карта, обслуживание, рубль, кэшбэк, ...</td>\n",
       "    </tr>\n",
       "    <tr>\n",
       "      <th>4</th>\n",
       "      <td>4</td>\n",
       "      <td>83</td>\n",
       "      <td>[помощь, онлайн, рубль, кредит, любой, гаранти...</td>\n",
       "    </tr>\n",
       "    <tr>\n",
       "      <th>5</th>\n",
       "      <td>5</td>\n",
       "      <td>105</td>\n",
       "      <td>[день, карта, бесплатный, комиссия, наличный, ...</td>\n",
       "    </tr>\n",
       "    <tr>\n",
       "      <th>6</th>\n",
       "      <td>6</td>\n",
       "      <td>61</td>\n",
       "      <td>[день, документ, взнос, рубль, кредит, деньга,...</td>\n",
       "    </tr>\n",
       "    <tr>\n",
       "      <th>7</th>\n",
       "      <td>7</td>\n",
       "      <td>54</td>\n",
       "      <td>[счёт, накопительный, открыть, ставка, минимал...</td>\n",
       "    </tr>\n",
       "    <tr>\n",
       "      <th>8</th>\n",
       "      <td>8</td>\n",
       "      <td>26</td>\n",
       "      <td>[гарантия, банковский, выпуск, день, течение, ...</td>\n",
       "    </tr>\n",
       "    <tr>\n",
       "      <th>9</th>\n",
       "      <td>9</td>\n",
       "      <td>45</td>\n",
       "      <td>[вклад, открыть, ставка, получать, выгодный, з...</td>\n",
       "    </tr>\n",
       "    <tr>\n",
       "      <th>10</th>\n",
       "      <td>10</td>\n",
       "      <td>71</td>\n",
       "      <td>[кредит, ставка, решение, минута, документ, пл...</td>\n",
       "    </tr>\n",
       "  </tbody>\n",
       "</table>\n",
       "</div>"
      ],
      "text/plain": [
       "    nom_clust  len_clust                                          top_words\n",
       "0           0        131  [поручитель, ставка, рубль, кредит, бесплатный...\n",
       "1           1        164  [онлайн, помощь, счёт, райффайзенбанк, докумен...\n",
       "2           2        163  [кредит, ставка, рубль, документ, счёт, карта,...\n",
       "3           3         97  [покупка, карта, обслуживание, рубль, кэшбэк, ...\n",
       "4           4         83  [помощь, онлайн, рубль, кредит, любой, гаранти...\n",
       "5           5        105  [день, карта, бесплатный, комиссия, наличный, ...\n",
       "6           6         61  [день, документ, взнос, рубль, кредит, деньга,...\n",
       "7           7         54  [счёт, накопительный, открыть, ставка, минимал...\n",
       "8           8         26  [гарантия, банковский, выпуск, день, течение, ...\n",
       "9           9         45  [вклад, открыть, ставка, получать, выгодный, з...\n",
       "10         10         71  [кредит, ставка, решение, минута, документ, пл..."
      ]
     },
     "execution_count": 72,
     "metadata": {},
     "output_type": "execute_result"
    }
   ],
   "source": [
    "print('Рузультаты кластеризации google_msk')\n",
    "clust_info_g_m"
   ]
  },
  {
   "cell_type": "code",
   "execution_count": 73,
   "metadata": {
    "scrolled": true
   },
   "outputs": [
    {
     "name": "stdout",
     "output_type": "stream",
     "text": [
      "Рузультаты кластеризации google_spb\n"
     ]
    },
    {
     "data": {
      "text/html": [
       "<div>\n",
       "<style scoped>\n",
       "    .dataframe tbody tr th:only-of-type {\n",
       "        vertical-align: middle;\n",
       "    }\n",
       "\n",
       "    .dataframe tbody tr th {\n",
       "        vertical-align: top;\n",
       "    }\n",
       "\n",
       "    .dataframe thead th {\n",
       "        text-align: right;\n",
       "    }\n",
       "</style>\n",
       "<table border=\"1\" class=\"dataframe\">\n",
       "  <thead>\n",
       "    <tr style=\"text-align: right;\">\n",
       "      <th></th>\n",
       "      <th>nom_clust</th>\n",
       "      <th>len_clust</th>\n",
       "      <th>top_words</th>\n",
       "    </tr>\n",
       "  </thead>\n",
       "  <tbody>\n",
       "    <tr>\n",
       "      <th>0</th>\n",
       "      <td>0</td>\n",
       "      <td>90</td>\n",
       "      <td>[день, наличный, комиссия, снимать, август, за...</td>\n",
       "    </tr>\n",
       "    <tr>\n",
       "      <th>1</th>\n",
       "      <td>1</td>\n",
       "      <td>121</td>\n",
       "      <td>[бесплатный, обслуживание, карта, весь, срок, ...</td>\n",
       "    </tr>\n",
       "    <tr>\n",
       "      <th>2</th>\n",
       "      <td>2</td>\n",
       "      <td>36</td>\n",
       "      <td>[кредит, ставка, документ, финансовый, рефинан...</td>\n",
       "    </tr>\n",
       "    <tr>\n",
       "      <th>3</th>\n",
       "      <td>3</td>\n",
       "      <td>134</td>\n",
       "      <td>[получать, вклад, доход, ежемесячный, ставка, ...</td>\n",
       "    </tr>\n",
       "    <tr>\n",
       "      <th>4</th>\n",
       "      <td>4</td>\n",
       "      <td>85</td>\n",
       "      <td>[рубль, карта, весь, заказать, сегодня, срок, ...</td>\n",
       "    </tr>\n",
       "    <tr>\n",
       "      <th>5</th>\n",
       "      <td>5</td>\n",
       "      <td>25</td>\n",
       "      <td>[залог, погашение, досрочный, ограничение, пор...</td>\n",
       "    </tr>\n",
       "    <tr>\n",
       "      <th>6</th>\n",
       "      <td>6</td>\n",
       "      <td>47</td>\n",
       "      <td>[счёт, пополнение, карта, комиссия, документ, ...</td>\n",
       "    </tr>\n",
       "    <tr>\n",
       "      <th>7</th>\n",
       "      <td>7</td>\n",
       "      <td>57</td>\n",
       "      <td>[рубль, цель, любой, документ, ставка, кредит,...</td>\n",
       "    </tr>\n",
       "    <tr>\n",
       "      <th>8</th>\n",
       "      <td>8</td>\n",
       "      <td>54</td>\n",
       "      <td>[карта, платить, течение, обслуживание, срок, ...</td>\n",
       "    </tr>\n",
       "    <tr>\n",
       "      <th>9</th>\n",
       "      <td>9</td>\n",
       "      <td>33</td>\n",
       "      <td>[ставка, счёт, накопительный, финансовый, услу...</td>\n",
       "    </tr>\n",
       "    <tr>\n",
       "      <th>10</th>\n",
       "      <td>10</td>\n",
       "      <td>29</td>\n",
       "      <td>[бесплатный, срок, обслуживание, весь, финансо...</td>\n",
       "    </tr>\n",
       "    <tr>\n",
       "      <th>11</th>\n",
       "      <td>11</td>\n",
       "      <td>43</td>\n",
       "      <td>[пополнение, скидка, авансом, оплата, комиссия...</td>\n",
       "    </tr>\n",
       "    <tr>\n",
       "      <th>12</th>\n",
       "      <td>12</td>\n",
       "      <td>54</td>\n",
       "      <td>[год, документ, финансовый, срок, ставка, кред...</td>\n",
       "    </tr>\n",
       "    <tr>\n",
       "      <th>13</th>\n",
       "      <td>13</td>\n",
       "      <td>62</td>\n",
       "      <td>[счёт, минута, карта, подарок, документ, онлай...</td>\n",
       "    </tr>\n",
       "    <tr>\n",
       "      <th>14</th>\n",
       "      <td>14</td>\n",
       "      <td>39</td>\n",
       "      <td>[кредит, финансовый, авто, машина, ставка, усл...</td>\n",
       "    </tr>\n",
       "    <tr>\n",
       "      <th>15</th>\n",
       "      <td>15</td>\n",
       "      <td>19</td>\n",
       "      <td>[взнос, один, рубль, онлайн, решение, минута, ...</td>\n",
       "    </tr>\n",
       "    <tr>\n",
       "      <th>16</th>\n",
       "      <td>16</td>\n",
       "      <td>30</td>\n",
       "      <td>[кредит, ставка, рефинансирование, оказывать, ...</td>\n",
       "    </tr>\n",
       "    <tr>\n",
       "      <th>17</th>\n",
       "      <td>17</td>\n",
       "      <td>42</td>\n",
       "      <td>[счёт, отделение, документ, посещение, карта, ...</td>\n",
       "    </tr>\n",
       "  </tbody>\n",
       "</table>\n",
       "</div>"
      ],
      "text/plain": [
       "    nom_clust  len_clust                                          top_words\n",
       "0           0         90  [день, наличный, комиссия, снимать, август, за...\n",
       "1           1        121  [бесплатный, обслуживание, карта, весь, срок, ...\n",
       "2           2         36  [кредит, ставка, документ, финансовый, рефинан...\n",
       "3           3        134  [получать, вклад, доход, ежемесячный, ставка, ...\n",
       "4           4         85  [рубль, карта, весь, заказать, сегодня, срок, ...\n",
       "5           5         25  [залог, погашение, досрочный, ограничение, пор...\n",
       "6           6         47  [счёт, пополнение, карта, комиссия, документ, ...\n",
       "7           7         57  [рубль, цель, любой, документ, ставка, кредит,...\n",
       "8           8         54  [карта, платить, течение, обслуживание, срок, ...\n",
       "9           9         33  [ставка, счёт, накопительный, финансовый, услу...\n",
       "10         10         29  [бесплатный, срок, обслуживание, весь, финансо...\n",
       "11         11         43  [пополнение, скидка, авансом, оплата, комиссия...\n",
       "12         12         54  [год, документ, финансовый, срок, ставка, кред...\n",
       "13         13         62  [счёт, минута, карта, подарок, документ, онлай...\n",
       "14         14         39  [кредит, финансовый, авто, машина, ставка, усл...\n",
       "15         15         19  [взнос, один, рубль, онлайн, решение, минута, ...\n",
       "16         16         30  [кредит, ставка, рефинансирование, оказывать, ...\n",
       "17         17         42  [счёт, отделение, документ, посещение, карта, ..."
      ]
     },
     "execution_count": 73,
     "metadata": {},
     "output_type": "execute_result"
    }
   ],
   "source": [
    "print('Рузультаты кластеризации google_spb')\n",
    "clust_info_g_s"
   ]
  },
  {
   "cell_type": "code",
   "execution_count": 74,
   "metadata": {
    "scrolled": true
   },
   "outputs": [
    {
     "name": "stdout",
     "output_type": "stream",
     "text": [
      "Рузультаты кластеризации yandex_msk\n"
     ]
    },
    {
     "data": {
      "text/html": [
       "<div>\n",
       "<style scoped>\n",
       "    .dataframe tbody tr th:only-of-type {\n",
       "        vertical-align: middle;\n",
       "    }\n",
       "\n",
       "    .dataframe tbody tr th {\n",
       "        vertical-align: top;\n",
       "    }\n",
       "\n",
       "    .dataframe thead th {\n",
       "        text-align: right;\n",
       "    }\n",
       "</style>\n",
       "<table border=\"1\" class=\"dataframe\">\n",
       "  <thead>\n",
       "    <tr style=\"text-align: right;\">\n",
       "      <th></th>\n",
       "      <th>nom_clust</th>\n",
       "      <th>len_clust</th>\n",
       "      <th>top_words</th>\n",
       "    </tr>\n",
       "  </thead>\n",
       "  <tbody>\n",
       "    <tr>\n",
       "      <th>0</th>\n",
       "      <td>0</td>\n",
       "      <td>25</td>\n",
       "      <td>[кредит, авто, каско, услуга, взнос, ставка, о...</td>\n",
       "    </tr>\n",
       "    <tr>\n",
       "      <th>1</th>\n",
       "      <td>1</td>\n",
       "      <td>91</td>\n",
       "      <td>[счёт, минута, карта, подарок, документ, онлай...</td>\n",
       "    </tr>\n",
       "    <tr>\n",
       "      <th>2</th>\n",
       "      <td>2</td>\n",
       "      <td>40</td>\n",
       "      <td>[бесплатный, оформить, обслуживание, срок, вес...</td>\n",
       "    </tr>\n",
       "    <tr>\n",
       "      <th>3</th>\n",
       "      <td>3</td>\n",
       "      <td>104</td>\n",
       "      <td>[день, заказать, комиссия, наличный, снимать, ...</td>\n",
       "    </tr>\n",
       "    <tr>\n",
       "      <th>4</th>\n",
       "      <td>4</td>\n",
       "      <td>88</td>\n",
       "      <td>[карта, обслуживание, платить, срок, течение, ...</td>\n",
       "    </tr>\n",
       "    <tr>\n",
       "      <th>5</th>\n",
       "      <td>5</td>\n",
       "      <td>52</td>\n",
       "      <td>[год, документ, срок, услуга, ставка, кредит, ...</td>\n",
       "    </tr>\n",
       "    <tr>\n",
       "      <th>6</th>\n",
       "      <td>6</td>\n",
       "      <td>14</td>\n",
       "      <td>[доход, год, каждый, получать, рубль, процент,...</td>\n",
       "    </tr>\n",
       "    <tr>\n",
       "      <th>7</th>\n",
       "      <td>7</td>\n",
       "      <td>48</td>\n",
       "      <td>[счёт, посещение, документ, карта, отделение, ...</td>\n",
       "    </tr>\n",
       "    <tr>\n",
       "      <th>8</th>\n",
       "      <td>8</td>\n",
       "      <td>14</td>\n",
       "      <td>[рубль, карта, весь, заказать, сегодня, обслуж...</td>\n",
       "    </tr>\n",
       "    <tr>\n",
       "      <th>9</th>\n",
       "      <td>9</td>\n",
       "      <td>45</td>\n",
       "      <td>[счёт, комиссия, пополнение, карта, бесплатный...</td>\n",
       "    </tr>\n",
       "    <tr>\n",
       "      <th>10</th>\n",
       "      <td>10</td>\n",
       "      <td>89</td>\n",
       "      <td>[рубль, карта, весь, обслуживание, доставка, с...</td>\n",
       "    </tr>\n",
       "    <tr>\n",
       "      <th>11</th>\n",
       "      <td>11</td>\n",
       "      <td>54</td>\n",
       "      <td>[получать, вклад, ставка, приумножать, ежемеся...</td>\n",
       "    </tr>\n",
       "    <tr>\n",
       "      <th>12</th>\n",
       "      <td>12</td>\n",
       "      <td>59</td>\n",
       "      <td>[оформить, срок, обслуживание, бесплатный, кэш...</td>\n",
       "    </tr>\n",
       "    <tr>\n",
       "      <th>13</th>\n",
       "      <td>13</td>\n",
       "      <td>16</td>\n",
       "      <td>[счёт, онлайн, карта, минута, подарок, докумен...</td>\n",
       "    </tr>\n",
       "    <tr>\n",
       "      <th>14</th>\n",
       "      <td>14</td>\n",
       "      <td>62</td>\n",
       "      <td>[кредит, ставка, услуга, оказывать, рефинансир...</td>\n",
       "    </tr>\n",
       "    <tr>\n",
       "      <th>15</th>\n",
       "      <td>15</td>\n",
       "      <td>40</td>\n",
       "      <td>[авансом, пополнение, скидка, оплата, документ...</td>\n",
       "    </tr>\n",
       "    <tr>\n",
       "      <th>16</th>\n",
       "      <td>16</td>\n",
       "      <td>57</td>\n",
       "      <td>[бесплатный, покупка, весь, обслуживание, срок...</td>\n",
       "    </tr>\n",
       "    <tr>\n",
       "      <th>17</th>\n",
       "      <td>17</td>\n",
       "      <td>29</td>\n",
       "      <td>[счёт, ставка, накопительный, услуга, оказыват...</td>\n",
       "    </tr>\n",
       "    <tr>\n",
       "      <th>18</th>\n",
       "      <td>18</td>\n",
       "      <td>73</td>\n",
       "      <td>[любой, цель, рубль, кредит, услуга, оказывать...</td>\n",
       "    </tr>\n",
       "  </tbody>\n",
       "</table>\n",
       "</div>"
      ],
      "text/plain": [
       "    nom_clust  len_clust                                          top_words\n",
       "0           0         25  [кредит, авто, каско, услуга, взнос, ставка, о...\n",
       "1           1         91  [счёт, минута, карта, подарок, документ, онлай...\n",
       "2           2         40  [бесплатный, оформить, обслуживание, срок, вес...\n",
       "3           3        104  [день, заказать, комиссия, наличный, снимать, ...\n",
       "4           4         88  [карта, обслуживание, платить, срок, течение, ...\n",
       "5           5         52  [год, документ, срок, услуга, ставка, кредит, ...\n",
       "6           6         14  [доход, год, каждый, получать, рубль, процент,...\n",
       "7           7         48  [счёт, посещение, документ, карта, отделение, ...\n",
       "8           8         14  [рубль, карта, весь, заказать, сегодня, обслуж...\n",
       "9           9         45  [счёт, комиссия, пополнение, карта, бесплатный...\n",
       "10         10         89  [рубль, карта, весь, обслуживание, доставка, с...\n",
       "11         11         54  [получать, вклад, ставка, приумножать, ежемеся...\n",
       "12         12         59  [оформить, срок, обслуживание, бесплатный, кэш...\n",
       "13         13         16  [счёт, онлайн, карта, минута, подарок, докумен...\n",
       "14         14         62  [кредит, ставка, услуга, оказывать, рефинансир...\n",
       "15         15         40  [авансом, пополнение, скидка, оплата, документ...\n",
       "16         16         57  [бесплатный, покупка, весь, обслуживание, срок...\n",
       "17         17         29  [счёт, ставка, накопительный, услуга, оказыват...\n",
       "18         18         73  [любой, цель, рубль, кредит, услуга, оказывать..."
      ]
     },
     "execution_count": 74,
     "metadata": {},
     "output_type": "execute_result"
    }
   ],
   "source": [
    "print('Рузультаты кластеризации yandex_msk')\n",
    "clust_info_ya_m"
   ]
  },
  {
   "cell_type": "code",
   "execution_count": 75,
   "metadata": {
    "scrolled": true
   },
   "outputs": [
    {
     "name": "stdout",
     "output_type": "stream",
     "text": [
      "Рузультаты кластеризации yandex_spb\n"
     ]
    },
    {
     "data": {
      "text/html": [
       "<div>\n",
       "<style scoped>\n",
       "    .dataframe tbody tr th:only-of-type {\n",
       "        vertical-align: middle;\n",
       "    }\n",
       "\n",
       "    .dataframe tbody tr th {\n",
       "        vertical-align: top;\n",
       "    }\n",
       "\n",
       "    .dataframe thead th {\n",
       "        text-align: right;\n",
       "    }\n",
       "</style>\n",
       "<table border=\"1\" class=\"dataframe\">\n",
       "  <thead>\n",
       "    <tr style=\"text-align: right;\">\n",
       "      <th></th>\n",
       "      <th>nom_clust</th>\n",
       "      <th>len_clust</th>\n",
       "      <th>top_words</th>\n",
       "    </tr>\n",
       "  </thead>\n",
       "  <tbody>\n",
       "    <tr>\n",
       "      <th>0</th>\n",
       "      <td>0</td>\n",
       "      <td>90</td>\n",
       "      <td>[день, наличный, комиссия, снимать, август, за...</td>\n",
       "    </tr>\n",
       "    <tr>\n",
       "      <th>1</th>\n",
       "      <td>1</td>\n",
       "      <td>121</td>\n",
       "      <td>[бесплатный, обслуживание, карта, весь, срок, ...</td>\n",
       "    </tr>\n",
       "    <tr>\n",
       "      <th>2</th>\n",
       "      <td>2</td>\n",
       "      <td>36</td>\n",
       "      <td>[кредит, ставка, документ, финансовый, рефинан...</td>\n",
       "    </tr>\n",
       "    <tr>\n",
       "      <th>3</th>\n",
       "      <td>3</td>\n",
       "      <td>134</td>\n",
       "      <td>[получать, вклад, доход, ежемесячный, ставка, ...</td>\n",
       "    </tr>\n",
       "    <tr>\n",
       "      <th>4</th>\n",
       "      <td>4</td>\n",
       "      <td>85</td>\n",
       "      <td>[рубль, карта, весь, заказать, сегодня, срок, ...</td>\n",
       "    </tr>\n",
       "    <tr>\n",
       "      <th>5</th>\n",
       "      <td>5</td>\n",
       "      <td>25</td>\n",
       "      <td>[залог, погашение, досрочный, ограничение, пор...</td>\n",
       "    </tr>\n",
       "    <tr>\n",
       "      <th>6</th>\n",
       "      <td>6</td>\n",
       "      <td>47</td>\n",
       "      <td>[счёт, пополнение, карта, комиссия, документ, ...</td>\n",
       "    </tr>\n",
       "    <tr>\n",
       "      <th>7</th>\n",
       "      <td>7</td>\n",
       "      <td>57</td>\n",
       "      <td>[рубль, цель, любой, документ, ставка, кредит,...</td>\n",
       "    </tr>\n",
       "    <tr>\n",
       "      <th>8</th>\n",
       "      <td>8</td>\n",
       "      <td>54</td>\n",
       "      <td>[карта, платить, течение, обслуживание, срок, ...</td>\n",
       "    </tr>\n",
       "    <tr>\n",
       "      <th>9</th>\n",
       "      <td>9</td>\n",
       "      <td>33</td>\n",
       "      <td>[ставка, счёт, накопительный, финансовый, услу...</td>\n",
       "    </tr>\n",
       "    <tr>\n",
       "      <th>10</th>\n",
       "      <td>10</td>\n",
       "      <td>29</td>\n",
       "      <td>[бесплатный, срок, обслуживание, весь, финансо...</td>\n",
       "    </tr>\n",
       "    <tr>\n",
       "      <th>11</th>\n",
       "      <td>11</td>\n",
       "      <td>43</td>\n",
       "      <td>[пополнение, скидка, авансом, оплата, комиссия...</td>\n",
       "    </tr>\n",
       "    <tr>\n",
       "      <th>12</th>\n",
       "      <td>12</td>\n",
       "      <td>54</td>\n",
       "      <td>[год, документ, финансовый, срок, ставка, кред...</td>\n",
       "    </tr>\n",
       "    <tr>\n",
       "      <th>13</th>\n",
       "      <td>13</td>\n",
       "      <td>62</td>\n",
       "      <td>[счёт, минута, карта, подарок, документ, онлай...</td>\n",
       "    </tr>\n",
       "    <tr>\n",
       "      <th>14</th>\n",
       "      <td>14</td>\n",
       "      <td>39</td>\n",
       "      <td>[кредит, финансовый, авто, машина, ставка, усл...</td>\n",
       "    </tr>\n",
       "    <tr>\n",
       "      <th>15</th>\n",
       "      <td>15</td>\n",
       "      <td>19</td>\n",
       "      <td>[взнос, один, рубль, онлайн, решение, минута, ...</td>\n",
       "    </tr>\n",
       "    <tr>\n",
       "      <th>16</th>\n",
       "      <td>16</td>\n",
       "      <td>30</td>\n",
       "      <td>[кредит, ставка, рефинансирование, оказывать, ...</td>\n",
       "    </tr>\n",
       "    <tr>\n",
       "      <th>17</th>\n",
       "      <td>17</td>\n",
       "      <td>42</td>\n",
       "      <td>[счёт, отделение, документ, посещение, карта, ...</td>\n",
       "    </tr>\n",
       "  </tbody>\n",
       "</table>\n",
       "</div>"
      ],
      "text/plain": [
       "    nom_clust  len_clust                                          top_words\n",
       "0           0         90  [день, наличный, комиссия, снимать, август, за...\n",
       "1           1        121  [бесплатный, обслуживание, карта, весь, срок, ...\n",
       "2           2         36  [кредит, ставка, документ, финансовый, рефинан...\n",
       "3           3        134  [получать, вклад, доход, ежемесячный, ставка, ...\n",
       "4           4         85  [рубль, карта, весь, заказать, сегодня, срок, ...\n",
       "5           5         25  [залог, погашение, досрочный, ограничение, пор...\n",
       "6           6         47  [счёт, пополнение, карта, комиссия, документ, ...\n",
       "7           7         57  [рубль, цель, любой, документ, ставка, кредит,...\n",
       "8           8         54  [карта, платить, течение, обслуживание, срок, ...\n",
       "9           9         33  [ставка, счёт, накопительный, финансовый, услу...\n",
       "10         10         29  [бесплатный, срок, обслуживание, весь, финансо...\n",
       "11         11         43  [пополнение, скидка, авансом, оплата, комиссия...\n",
       "12         12         54  [год, документ, финансовый, срок, ставка, кред...\n",
       "13         13         62  [счёт, минута, карта, подарок, документ, онлай...\n",
       "14         14         39  [кредит, финансовый, авто, машина, ставка, усл...\n",
       "15         15         19  [взнос, один, рубль, онлайн, решение, минута, ...\n",
       "16         16         30  [кредит, ставка, рефинансирование, оказывать, ...\n",
       "17         17         42  [счёт, отделение, документ, посещение, карта, ..."
      ]
     },
     "execution_count": 75,
     "metadata": {},
     "output_type": "execute_result"
    }
   ],
   "source": [
    "print('Рузультаты кластеризации yandex_spb')\n",
    "clust_info_ya_s"
   ]
  },
  {
   "cell_type": "code",
   "execution_count": null,
   "metadata": {},
   "outputs": [],
   "source": []
  },
  {
   "cell_type": "markdown",
   "metadata": {},
   "source": [
    "# Part 2"
   ]
  },
  {
   "cell_type": "code",
   "execution_count": 76,
   "metadata": {},
   "outputs": [],
   "source": [
    "products = pd.DataFrame()\n",
    "products['title'] = pd.Series(['вклад', 'ипотека', 'рачетно-кассовое обслуживание','кредитование малого бизнеса', 'потребительские кредиты','кредитные карты','дебетовые карты','прочее'])"
   ]
  },
  {
   "cell_type": "code",
   "execution_count": 77,
   "metadata": {},
   "outputs": [
    {
     "data": {
      "text/html": [
       "<div>\n",
       "<style scoped>\n",
       "    .dataframe tbody tr th:only-of-type {\n",
       "        vertical-align: middle;\n",
       "    }\n",
       "\n",
       "    .dataframe tbody tr th {\n",
       "        vertical-align: top;\n",
       "    }\n",
       "\n",
       "    .dataframe thead th {\n",
       "        text-align: right;\n",
       "    }\n",
       "</style>\n",
       "<table border=\"1\" class=\"dataframe\">\n",
       "  <thead>\n",
       "    <tr style=\"text-align: right;\">\n",
       "      <th></th>\n",
       "      <th>title</th>\n",
       "    </tr>\n",
       "  </thead>\n",
       "  <tbody>\n",
       "    <tr>\n",
       "      <th>0</th>\n",
       "      <td>вклад</td>\n",
       "    </tr>\n",
       "    <tr>\n",
       "      <th>1</th>\n",
       "      <td>ипотека</td>\n",
       "    </tr>\n",
       "    <tr>\n",
       "      <th>2</th>\n",
       "      <td>рачетно-кассовое обслуживание</td>\n",
       "    </tr>\n",
       "    <tr>\n",
       "      <th>3</th>\n",
       "      <td>кредитование малого бизнеса</td>\n",
       "    </tr>\n",
       "    <tr>\n",
       "      <th>4</th>\n",
       "      <td>потребительские кредиты</td>\n",
       "    </tr>\n",
       "    <tr>\n",
       "      <th>5</th>\n",
       "      <td>кредитные карты</td>\n",
       "    </tr>\n",
       "    <tr>\n",
       "      <th>6</th>\n",
       "      <td>дебетовые карты</td>\n",
       "    </tr>\n",
       "    <tr>\n",
       "      <th>7</th>\n",
       "      <td>прочее</td>\n",
       "    </tr>\n",
       "  </tbody>\n",
       "</table>\n",
       "</div>"
      ],
      "text/plain": [
       "                           title\n",
       "0                          вклад\n",
       "1                        ипотека\n",
       "2  рачетно-кассовое обслуживание\n",
       "3    кредитование малого бизнеса\n",
       "4        потребительские кредиты\n",
       "5                кредитные карты\n",
       "6                дебетовые карты\n",
       "7                         прочее"
      ]
     },
     "execution_count": 77,
     "metadata": {},
     "output_type": "execute_result"
    }
   ],
   "source": [
    "products"
   ]
  },
  {
   "cell_type": "code",
   "execution_count": 78,
   "metadata": {},
   "outputs": [],
   "source": [
    "prod_list_g_m = ['потребительские кредиты','рачетно-кассовое обслуживание', 'прочее', 'дебетовые карты','рачетно-кассовое обслуживание', 'кредитные карты', 'кредит авто', 'накопительный счёт', 'банковский гарантия','открыть вклад', 'рефинансировать кредит']"
   ]
  },
  {
   "cell_type": "code",
   "execution_count": 79,
   "metadata": {},
   "outputs": [],
   "source": [
    "prod_list_g_m_number = [4,2, 3, 6, 2, 5, 1, 0,0, 7, 0]"
   ]
  },
  {
   "cell_type": "code",
   "execution_count": 80,
   "metadata": {},
   "outputs": [
    {
     "data": {
      "text/html": [
       "<div>\n",
       "<style scoped>\n",
       "    .dataframe tbody tr th:only-of-type {\n",
       "        vertical-align: middle;\n",
       "    }\n",
       "\n",
       "    .dataframe tbody tr th {\n",
       "        vertical-align: top;\n",
       "    }\n",
       "\n",
       "    .dataframe thead th {\n",
       "        text-align: right;\n",
       "    }\n",
       "</style>\n",
       "<table border=\"1\" class=\"dataframe\">\n",
       "  <thead>\n",
       "    <tr style=\"text-align: right;\">\n",
       "      <th></th>\n",
       "      <th>nom_clust</th>\n",
       "      <th>len_clust</th>\n",
       "      <th>top_words</th>\n",
       "      <th>nom_cl_prod</th>\n",
       "      <th>nom_cl_prod_nomb</th>\n",
       "    </tr>\n",
       "  </thead>\n",
       "  <tbody>\n",
       "    <tr>\n",
       "      <th>0</th>\n",
       "      <td>0</td>\n",
       "      <td>131</td>\n",
       "      <td>[поручитель, ставка, рубль, кредит, бесплатный...</td>\n",
       "      <td>потребительские кредиты</td>\n",
       "      <td>4</td>\n",
       "    </tr>\n",
       "    <tr>\n",
       "      <th>1</th>\n",
       "      <td>1</td>\n",
       "      <td>164</td>\n",
       "      <td>[онлайн, помощь, счёт, райффайзенбанк, докумен...</td>\n",
       "      <td>рачетно-кассовое обслуживание</td>\n",
       "      <td>2</td>\n",
       "    </tr>\n",
       "    <tr>\n",
       "      <th>2</th>\n",
       "      <td>2</td>\n",
       "      <td>163</td>\n",
       "      <td>[кредит, ставка, рубль, документ, счёт, карта,...</td>\n",
       "      <td>прочее</td>\n",
       "      <td>3</td>\n",
       "    </tr>\n",
       "    <tr>\n",
       "      <th>3</th>\n",
       "      <td>3</td>\n",
       "      <td>97</td>\n",
       "      <td>[покупка, карта, обслуживание, рубль, кэшбэк, ...</td>\n",
       "      <td>дебетовые карты</td>\n",
       "      <td>6</td>\n",
       "    </tr>\n",
       "    <tr>\n",
       "      <th>4</th>\n",
       "      <td>4</td>\n",
       "      <td>83</td>\n",
       "      <td>[помощь, онлайн, рубль, кредит, любой, гаранти...</td>\n",
       "      <td>рачетно-кассовое обслуживание</td>\n",
       "      <td>2</td>\n",
       "    </tr>\n",
       "    <tr>\n",
       "      <th>5</th>\n",
       "      <td>5</td>\n",
       "      <td>105</td>\n",
       "      <td>[день, карта, бесплатный, комиссия, наличный, ...</td>\n",
       "      <td>кредитные карты</td>\n",
       "      <td>5</td>\n",
       "    </tr>\n",
       "    <tr>\n",
       "      <th>6</th>\n",
       "      <td>6</td>\n",
       "      <td>61</td>\n",
       "      <td>[день, документ, взнос, рубль, кредит, деньга,...</td>\n",
       "      <td>кредит авто</td>\n",
       "      <td>1</td>\n",
       "    </tr>\n",
       "    <tr>\n",
       "      <th>7</th>\n",
       "      <td>7</td>\n",
       "      <td>54</td>\n",
       "      <td>[счёт, накопительный, открыть, ставка, минимал...</td>\n",
       "      <td>накопительный счёт</td>\n",
       "      <td>0</td>\n",
       "    </tr>\n",
       "    <tr>\n",
       "      <th>8</th>\n",
       "      <td>8</td>\n",
       "      <td>26</td>\n",
       "      <td>[гарантия, банковский, выпуск, день, течение, ...</td>\n",
       "      <td>банковский гарантия</td>\n",
       "      <td>0</td>\n",
       "    </tr>\n",
       "    <tr>\n",
       "      <th>9</th>\n",
       "      <td>9</td>\n",
       "      <td>45</td>\n",
       "      <td>[вклад, открыть, ставка, получать, выгодный, з...</td>\n",
       "      <td>открыть вклад</td>\n",
       "      <td>7</td>\n",
       "    </tr>\n",
       "    <tr>\n",
       "      <th>10</th>\n",
       "      <td>10</td>\n",
       "      <td>71</td>\n",
       "      <td>[кредит, ставка, решение, минута, документ, пл...</td>\n",
       "      <td>рефинансировать кредит</td>\n",
       "      <td>0</td>\n",
       "    </tr>\n",
       "  </tbody>\n",
       "</table>\n",
       "</div>"
      ],
      "text/plain": [
       "    nom_clust  len_clust                                          top_words  \\\n",
       "0           0        131  [поручитель, ставка, рубль, кредит, бесплатный...   \n",
       "1           1        164  [онлайн, помощь, счёт, райффайзенбанк, докумен...   \n",
       "2           2        163  [кредит, ставка, рубль, документ, счёт, карта,...   \n",
       "3           3         97  [покупка, карта, обслуживание, рубль, кэшбэк, ...   \n",
       "4           4         83  [помощь, онлайн, рубль, кредит, любой, гаранти...   \n",
       "5           5        105  [день, карта, бесплатный, комиссия, наличный, ...   \n",
       "6           6         61  [день, документ, взнос, рубль, кредит, деньга,...   \n",
       "7           7         54  [счёт, накопительный, открыть, ставка, минимал...   \n",
       "8           8         26  [гарантия, банковский, выпуск, день, течение, ...   \n",
       "9           9         45  [вклад, открыть, ставка, получать, выгодный, з...   \n",
       "10         10         71  [кредит, ставка, решение, минута, документ, пл...   \n",
       "\n",
       "                      nom_cl_prod  nom_cl_prod_nomb  \n",
       "0         потребительские кредиты                 4  \n",
       "1   рачетно-кассовое обслуживание                 2  \n",
       "2                          прочее                 3  \n",
       "3                 дебетовые карты                 6  \n",
       "4   рачетно-кассовое обслуживание                 2  \n",
       "5                 кредитные карты                 5  \n",
       "6                     кредит авто                 1  \n",
       "7              накопительный счёт                 0  \n",
       "8             банковский гарантия                 0  \n",
       "9                   открыть вклад                 7  \n",
       "10         рефинансировать кредит                 0  "
      ]
     },
     "execution_count": 80,
     "metadata": {},
     "output_type": "execute_result"
    }
   ],
   "source": [
    "clust_info_g_m['nom_cl_prod'] = prod_list_g_m\n",
    "clust_info_g_m['nom_cl_prod_nomb'] = prod_list_g_m_number\n",
    "clust_info_g_m"
   ]
  },
  {
   "cell_type": "markdown",
   "metadata": {},
   "source": [
    "Размечаем данные: из тех кластеров, что вышли удачными, берем значения, другие подгоняем"
   ]
  },
  {
   "cell_type": "code",
   "execution_count": 81,
   "metadata": {},
   "outputs": [],
   "source": [
    "#размечаем данные: \n",
    "label_4 = res_label_sets_g_m[res_label_sets_g_m['labels'] == 0].index[0:14]\n",
    "label_2 = res_label_sets_g_m[res_label_sets_g_m['labels'] == 1].index[0:14]\n",
    "label_5 = res_label_sets_g_m[res_label_sets_g_m['labels'] == 5].index[0:14]\n",
    "label_6 = res_label_sets_g_m[res_label_sets_g_m['labels'] == 3].index[0:14]\n",
    "label_0 = res_label_sets_g_m[res_label_sets_g_m['labels'] == 9].index[0:14]\n",
    "label_3 = res_label_sets_g_m[res_label_sets_g_m['sets'].apply(lambda x: ('кредит' in x) and ('бизнес' in x) and ('рко' not in x.lower()))].index[0:14]\n",
    "label_1 = res_label_sets_g_m[res_label_sets_g_m['sets'].apply(lambda x: 'ипотека' in x)].index[0:14]\n",
    "label_7 = res_label_sets_g_m[(res_label_sets_g_m['labels'] == 2) & (res_label_sets_g_m['sets'].apply(lambda x:('вклад' not in x.lower()) and ('карта' not in x.lower()) and ('рко' not in x.lower()) and ('кредит' not in x.lower()) and ('ипотека' not in x.lower())))].index[0:14]"
   ]
  },
  {
   "cell_type": "code",
   "execution_count": 82,
   "metadata": {},
   "outputs": [],
   "source": [
    "to_clas = pd.DataFrame(res_label_sets_g_m['sets'])\n",
    "label = []\n",
    "\n",
    "for i in range(len(to_clas)):\n",
    "    if i in label_0:\n",
    "        label.append(0)\n",
    "    elif i in label_1:\n",
    "        label.append(1)\n",
    "    elif i in label_2:\n",
    "        label.append(2)\n",
    "    elif i in label_3:\n",
    "        label.append(3)\n",
    "    elif i in label_4:\n",
    "        label.append(4)\n",
    "    elif i in label_5:\n",
    "        label.append(5)\n",
    "    elif i in label_6:\n",
    "        label.append(6)\n",
    "    elif i in label_7:\n",
    "        label.append(7)\n",
    "    else:\n",
    "        label.append(-1)\n",
    "\n",
    "to_clas['label']  = label   \n"
   ]
  },
  {
   "cell_type": "code",
   "execution_count": 83,
   "metadata": {},
   "outputs": [],
   "source": [
    "to_clas_table_save = pd.concat([to_clas, google_msk], axis = 1)\n",
    "to_clas_table = to_clas_table_save.drop('sets', axis = 1)"
   ]
  },
  {
   "cell_type": "code",
   "execution_count": 84,
   "metadata": {},
   "outputs": [],
   "source": [
    "to_clas_table_train = to_clas_table[to_clas_table['label'] != -1]\n",
    "to_clas_table_test = to_clas_table[to_clas_table['label'] == -1].drop('label', axis = 1)"
   ]
  },
  {
   "cell_type": "code",
   "execution_count": 85,
   "metadata": {},
   "outputs": [],
   "source": [
    "X = to_clas_table_train.drop('label', axis = 1)\n",
    "y = to_clas_table_train['label']"
   ]
  },
  {
   "cell_type": "code",
   "execution_count": 92,
   "metadata": {},
   "outputs": [],
   "source": [
    "from sklearn.metrics import mean_absolute_error"
   ]
  },
  {
   "cell_type": "code",
   "execution_count": 3,
   "metadata": {},
   "outputs": [],
   "source": [
    "xgb_cl = XGBClassifier()\n",
    "svc_cl = svm.SVC(kernel='linear', C=1)\n",
    "# scores_xgb = cross_val_score(xgb_cl, X, y, cv=6,scoring= mean_absolute_error )\n",
    "# scores_svc = cross_val_score(svc_cl, X, y, cv=10)"
   ]
  },
  {
   "cell_type": "code",
   "execution_count": 87,
   "metadata": {},
   "outputs": [
    {
     "data": {
      "text/plain": [
       "array([1.        , 0.95833333, 0.875     , 1.        , 0.9375    ,\n",
       "       1.        ])"
      ]
     },
     "execution_count": 87,
     "metadata": {},
     "output_type": "execute_result"
    }
   ],
   "source": [
    "scores_xgb"
   ]
  },
  {
   "cell_type": "code",
   "execution_count": 88,
   "metadata": {},
   "outputs": [
    {
     "data": {
      "text/plain": [
       "array([1., 1., 1., 1., 1., 1., 1., 1., 1., 1.])"
      ]
     },
     "execution_count": 88,
     "metadata": {},
     "output_type": "execute_result"
    }
   ],
   "source": [
    "#переобучение\n",
    "scores_svc"
   ]
  },
  {
   "cell_type": "code",
   "execution_count": 89,
   "metadata": {},
   "outputs": [],
   "source": [
    "xgb = XGBClassifier().fit(X, y)\n",
    "res = xgb.predict(to_clas_table_test)"
   ]
  },
  {
   "cell_type": "code",
   "execution_count": 4,
   "metadata": {
    "scrolled": false
   },
   "outputs": [],
   "source": [
    "test_res = to_clas_table_save[to_clas_table_save['label'] == -1]\n",
    "test_res['res_class'] = res\n",
    "test_res[['sets', 'res_class']].style.set_properties(subset=['sets'], **{'width': '600px'})"
   ]
  },
  {
   "cell_type": "markdown",
   "metadata": {},
   "source": [
    "0\tвклад  \n",
    "1\tипотека  \n",
    "2\tрачетно-кассовое обслуживание  \n",
    "3\tкредитование малого бизнеса  \n",
    "4\tпотребительские кредиты  \n",
    "5\tкредитные карты  \n",
    "6\tдебетовые карты  \n",
    "7\tпрочее  "
   ]
  },
  {
   "cell_type": "code",
   "execution_count": null,
   "metadata": {},
   "outputs": [],
   "source": []
  },
  {
   "cell_type": "code",
   "execution_count": null,
   "metadata": {},
   "outputs": [],
   "source": []
  },
  {
   "cell_type": "code",
   "execution_count": null,
   "metadata": {},
   "outputs": [],
   "source": []
  },
  {
   "cell_type": "code",
   "execution_count": null,
   "metadata": {},
   "outputs": [],
   "source": []
  },
  {
   "cell_type": "code",
   "execution_count": null,
   "metadata": {},
   "outputs": [],
   "source": []
  }
 ],
 "metadata": {
  "kernelspec": {
   "display_name": "Python 3",
   "language": "python",
   "name": "python3"
  },
  "language_info": {
   "codemirror_mode": {
    "name": "ipython",
    "version": 3
   },
   "file_extension": ".py",
   "mimetype": "text/x-python",
   "name": "python",
   "nbconvert_exporter": "python",
   "pygments_lexer": "ipython3",
   "version": "3.7.4"
  }
 },
 "nbformat": 4,
 "nbformat_minor": 2
}
